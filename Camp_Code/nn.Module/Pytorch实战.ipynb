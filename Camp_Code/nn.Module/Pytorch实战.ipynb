{
 "cells": [
  {
   "cell_type": "code",
   "execution_count": null,
   "id": "initial_id",
   "metadata": {
    "collapsed": true
   },
   "outputs": [],
   "source": [
    "import torch.nn as nn\n",
    "import torch\n",
    "\n",
    "# bias=True 系统随机赋予偏置值\n",
    "# device=None 是否使用系统的CPU or GPU\n",
    "# dtype=None 处理参数的类型（整型or浮点型）\n",
    "# Train Data:Dataloader(pytorch中自带的api)\n",
    "# loss.backward() 对损失函数的求导\n",
    "# optimizer.step() 完成模型中权重与偏置的更新\n",
    "\n",
    "\n",
    "class torch.nnLinear(in_features,out_features,bias=True,device=None,dtype=None)"
   ]
  }
 ],
 "metadata": {
  "kernelspec": {
   "display_name": "Python 3",
   "language": "python",
   "name": "python3"
  },
  "language_info": {
   "codemirror_mode": {
    "name": "ipython",
    "version": 2
   },
   "file_extension": ".py",
   "mimetype": "text/x-python",
   "name": "python",
   "nbconvert_exporter": "python",
   "pygments_lexer": "ipython2",
   "version": "2.7.6"
  }
 },
 "nbformat": 4,
 "nbformat_minor": 5
}
